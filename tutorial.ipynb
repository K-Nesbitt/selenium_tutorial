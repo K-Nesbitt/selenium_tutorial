{
 "cells": [
  {
   "cell_type": "markdown",
   "metadata": {},
   "source": [
    "# Selenuim Tutorial\n",
    "This notebook will demonstrate some common commands with selenium. For full details and explainations of how to locate elements read the docs for selenium at https://selenium-python.readthedocs.io/locating-elements.html. \n",
    "</br>\n",
    "</br>\n",
    "It is also important to note that if you using automatic software or scraping the web, you should be cautious of how fast you controlling the browser and should add pauses between commands to not mimic a bot. "
   ]
  },
  {
   "cell_type": "code",
   "execution_count": null,
   "metadata": {},
   "outputs": [],
   "source": [
    "#libraries\n",
    "import time\n",
    "\n",
    "from selenium import webdriver\n",
    "from selenium.webdriver.common.keys import Keys\n",
    "from selenium.webdriver.chrome.options import Options"
   ]
  },
  {
   "cell_type": "markdown",
   "metadata": {},
   "source": [
    "# Log in information\n",
    "Save your username and password in a confidential file and then read the text in as variables."
   ]
  },
  {
   "cell_type": "code",
   "execution_count": null,
   "metadata": {},
   "outputs": [],
   "source": [
    "#read in username and password \n",
    "u = open('.conf/LI_username.txt', 'r')\n",
    "p = open('.conf/LI_password.txt', 'r')\n",
    "my_username = u.read().strip('\\n')\n",
    "my_password = p.read().strip('\\n')\n",
    "u.close()\n",
    "p.close()"
   ]
  },
  {
   "cell_type": "markdown",
   "metadata": {},
   "source": [
    "# Loading the Webdriver\n",
    "Download the Chrome (or preferred browser) webdriver. Load in the driver from file path. </br>\n",
    "If you want to run selenium on a remote computer or without the browser being open, you will need to add the option '--headless'. \n"
   ]
  },
  {
   "cell_type": "code",
   "execution_count": null,
   "metadata": {},
   "outputs": [],
   "source": [
    "url = 'https://www.linkedin.com/login'\n",
    "\n",
    "driver = webdriver.Chrome('../chromedriver')\n",
    "driver.get(url)\n",
    "time.sleep(5)"
   ]
  },
  {
   "cell_type": "markdown",
   "metadata": {},
   "source": [
    "# Send Keys\n",
    "If you need to input text to a field, use the method 'send_keys' once the element has been located. </br>\n",
    "If the element you found is a button, once you have located it use the method 'click'."
   ]
  },
  {
   "cell_type": "code",
   "execution_count": null,
   "metadata": {},
   "outputs": [],
   "source": [
    "#enter username and passwords\n",
    "driver.find_element_by_name('session_key').send_keys(my_username)\n",
    "time.sleep(3)\n",
    "\n",
    "driver.find_element_by_name('session_password').send_keys(my_password)\n",
    "time.sleep(3)\n",
    "\n",
    "#Login\n",
    "driver.find_element_by_class_name('login__form_action_container').click()\n",
    "time.sleep(10)"
   ]
  },
  {
   "cell_type": "markdown",
   "metadata": {},
   "source": [
    "# Accessing links\n",
    "Once you found the element that the link is labeled under, use the method \"get_attribute\" with 'href' to get the text of the link. </br>\n",
    "You can then pass this link back through your webdriver using the 'get' method. "
   ]
  },
  {
   "cell_type": "code",
   "execution_count": null,
   "metadata": {},
   "outputs": [],
   "source": [
    "#Go to profile page\n",
    "links = driver.find_elements_by_tag_name('a')\n",
    "profile = links[9].get_attribute('href')\n",
    "profile\n"
   ]
  },
  {
   "cell_type": "markdown",
   "metadata": {},
   "source": [
    "# New Tab\n",
    "Follow the steps below to open a new tab and switch the webdriver to the new tab for control. "
   ]
  },
  {
   "cell_type": "code",
   "execution_count": null,
   "metadata": {},
   "outputs": [],
   "source": [
    "# Open new tab\n",
    "driver.execute_script(\"window.open('');\")\n",
    "time.sleep(3)\n",
    "\n",
    "# Switch to the new window\n",
    "driver.switch_to.window(driver.window_handles[1])\n",
    "driver.get(profile)\n",
    "time.sleep(10)      \n",
    "driver.close()"
   ]
  },
  {
   "cell_type": "markdown",
   "metadata": {},
   "source": [
    "# Back to main tab\n",
    "Close the tab and then tell the webdriver to switch handles back to the main tab [0]."
   ]
  },
  {
   "cell_type": "code",
   "execution_count": null,
   "metadata": {},
   "outputs": [],
   "source": [
    "# Switch focus back to main tab\n",
    "driver.switch_to.window(driver.window_handles[0])    \n",
    " "
   ]
  },
  {
   "cell_type": "markdown",
   "metadata": {},
   "source": [
    "# Scrolling the Page\n",
    "A lot of websites now use 'lazy loading' so not all of the page loads at once. To scroll the page, have the webdriver find an element that is at the end of the fully loaded page (html tag should work). Then continue to send_keys(Keys.END) until you have reached the bottom. </br>\n",
    "You will need to estimate the number of loops that it takes to scroll the entire page that you are on. "
   ]
  },
  {
   "cell_type": "code",
   "execution_count": null,
   "metadata": {},
   "outputs": [],
   "source": [
    "#scroll the page\n",
    "\n",
    "html = driver.find_element_by_tag_name('html')\n",
    "for _ in range(3):\n",
    "        html.send_keys(Keys.END)# scrolling\n",
    "        time.sleep(10)\n"
   ]
  },
  {
   "cell_type": "code",
   "execution_count": null,
   "metadata": {},
   "outputs": [],
   "source": []
  }
 ],
 "metadata": {
  "kernelspec": {
   "display_name": "Python 3",
   "language": "python",
   "name": "python3"
  },
  "language_info": {
   "codemirror_mode": {
    "name": "ipython",
    "version": 3
   },
   "file_extension": ".py",
   "mimetype": "text/x-python",
   "name": "python",
   "nbconvert_exporter": "python",
   "pygments_lexer": "ipython3",
   "version": "3.7.6"
  }
 },
 "nbformat": 4,
 "nbformat_minor": 4
}
