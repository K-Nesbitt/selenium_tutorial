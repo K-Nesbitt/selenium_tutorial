{
 "cells": [
  {
   "cell_type": "markdown",
   "metadata": {},
   "source": [
    "# Selenuim Tutorial\n",
    "This notebook will demonstrate some common commands with selenium. "
   ]
  },
  {
   "cell_type": "code",
   "execution_count": 1,
   "metadata": {},
   "outputs": [],
   "source": [
    "#libraries\n",
    "import numpy as np \n",
    "import pandas as pd \n",
    "import time\n",
    "\n",
    "from selenium import webdriver\n",
    "from selenium.webdriver.common.keys import Keys\n",
    "from selenium.webdriver.chrome.options import Options"
   ]
  },
  {
   "cell_type": "code",
   "execution_count": 2,
   "metadata": {},
   "outputs": [],
   "source": [
    "#read in username and password \n",
    "u = open('.conf/LI_username.txt', 'r')\n",
    "p = open('.conf/LI_password.txt', 'r')\n",
    "my_username = u.read().strip('\\n')\n",
    "my_password = p.read().strip('\\n')\n",
    "u.close()\n",
    "p.close()"
   ]
  },
  {
   "cell_type": "code",
   "execution_count": 3,
   "metadata": {},
   "outputs": [],
   "source": [
    "#load chrome webdrive\n",
    "chromeOptions = Options()\n",
    "#chromeOptions.add_argument('--headless') use this command to not have browser open\n",
    "driver = webdriver.Chrome('/Users/keatra/Galvanize/chromedriver', options=chromeOptions)"
   ]
  },
  {
   "cell_type": "code",
   "execution_count": 4,
   "metadata": {},
   "outputs": [],
   "source": [
    "#go to LinkedIn login page \n",
    "url = 'https://www.linkedin.com/login'\n",
    "driver.get(url)\n",
    "time.sleep(3)"
   ]
  },
  {
   "cell_type": "code",
   "execution_count": 5,
   "metadata": {},
   "outputs": [],
   "source": [
    "#enter username and passwords\n",
    "driver.find_element_by_name('session_key').send_keys(my_username)\n",
    "time.sleep(3)\n",
    "driver.find_element_by_name('session_password').send_keys(my_password)\n",
    "time.sleep(3)\n",
    "\n",
    "#Login\n",
    "driver.find_element_by_class_name('login__form_action_container').click()\n",
    "time.sleep(15)"
   ]
  },
  {
   "cell_type": "code",
   "execution_count": 6,
   "metadata": {},
   "outputs": [],
   "source": [
    "#Go to profile page\n",
    "profile_link = driver.find_element_by_id('ember290').get_attribute('href')"
   ]
  },
  {
   "cell_type": "code",
   "execution_count": 7,
   "metadata": {},
   "outputs": [],
   "source": [
    "# Open new tab\n",
    "driver.execute_script(\"window.open('');\")\n",
    "time.sleep(3)\n",
    "\n",
    "# Switch to the new window\n",
    "driver.switch_to.window(driver.window_handles[1])\n",
    "driver.get(profile_link)\n",
    "time.sleep(10)      \n"
   ]
  },
  {
   "cell_type": "code",
   "execution_count": 8,
   "metadata": {},
   "outputs": [],
   "source": [
    "#scroll the page\n",
    "\n",
    "html = driver.find_element_by_tag_name('html')\n",
    "for _ in range(2):\n",
    "        html.send_keys(Keys.END)# scrolling\n",
    "        time.sleep(10)\n",
    "driver.close()"
   ]
  },
  {
   "cell_type": "code",
   "execution_count": 9,
   "metadata": {},
   "outputs": [],
   "source": [
    "# Switch focus back to main tab\n",
    "driver.switch_to.window(driver.window_handles[0])    \n",
    " "
   ]
  }
 ],
 "metadata": {
  "kernelspec": {
   "display_name": "Python 3",
   "language": "python",
   "name": "python3"
  },
  "language_info": {
   "codemirror_mode": {
    "name": "ipython",
    "version": 3
   },
   "file_extension": ".py",
   "mimetype": "text/x-python",
   "name": "python",
   "nbconvert_exporter": "python",
   "pygments_lexer": "ipython3",
   "version": "3.7.6"
  }
 },
 "nbformat": 4,
 "nbformat_minor": 4
}
